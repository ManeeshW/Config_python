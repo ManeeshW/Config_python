{
 "cells": [
  {
   "cell_type": "markdown",
   "metadata": {},
   "source": [
    "### Legacy API Examples\n",
    " \n",
    "Mainly\n",
    " because of backwards compatibility concerns, configparser provides also a legacy API with explicit `get/set` methods. While there are valid use cases for the methods outlined below, mapping protocol access is preferred for new projects. The legacy API is at times more advanced, low-level and downright counterintuitive.\n",
    "\n",
    "An example of writing to a configuration file:"
   ]
  },
  {
   "cell_type": "code",
   "execution_count": 1,
   "metadata": {},
   "outputs": [],
   "source": [
    "import configparser\n",
    "\n",
    "config = configparser.RawConfigParser()\n",
    "\n",
    "# Please note that using RawConfigParser's set functions, you can assign\n",
    "# non-string values to keys internally, but will receive an error when\n",
    "# attempting to write to a file or when you get it in non-raw mode. Setting\n",
    "# values using the mapping protocol or ConfigParser's set() does not allow\n",
    "# such assignments to take place.\n",
    "config.add_section('Section1')\n",
    "config.set('Section1', 'an_int', '15')\n",
    "config.set('Section1', 'a_bool', 'true')\n",
    "config.set('Section1', 'a_float', '3.1415')\n",
    "config.set('Section1', 'baz', 'fun')\n",
    "config.set('Section1', 'bar', 'Python')\n",
    "config.set('Section1', 'foo', '%(bar)s is %(baz)s!')\n",
    "\n",
    "# Writing our configuration file to 'example.cfg'\n",
    "with open('config/example.cfg', 'w') as configfile:\n",
    "    config.write(configfile)"
   ]
  },
  {
   "cell_type": "markdown",
   "metadata": {},
   "source": [
    "An example of reading the configuration file again:"
   ]
  },
  {
   "cell_type": "code",
   "execution_count": 8,
   "metadata": {},
   "outputs": [
    {
     "name": "stdout",
     "output_type": "stream",
     "text": [
      "18.1415\n",
      "%(bar)s is %(baz)s!\n"
     ]
    }
   ],
   "source": [
    "import configparser\n",
    "\n",
    "config = configparser.RawConfigParser()\n",
    "config.read('config/example.cfg')\n",
    "\n",
    "# getfloat() raises an exception if the value is not a float\n",
    "# getint() and getboolean() also do this for their respective types\n",
    "a_float = config.getfloat('Section1', 'a_float')\n",
    "an_int = config.getint('Section1', 'an_int')\n",
    "print(a_float + an_int)\n",
    "\n",
    "# Notice that the next output does not interpolate '%(bar)s' or '%(baz)s'.\n",
    "# This is because we are using a RawConfigParser().\n",
    "if config.getboolean('Section1', 'a_bool'):\n",
    "    print(config.get('Section1', 'foo'))"
   ]
  },
  {
   "cell_type": "markdown",
   "metadata": {},
   "source": [
    "To get interpolation, use `ConfigParser`:"
   ]
  },
  {
   "cell_type": "code",
   "execution_count": 11,
   "metadata": {},
   "outputs": [
    {
     "name": "stdout",
     "output_type": "stream",
     "text": [
      "Python is fun!\n",
      "%(bar)s is %(baz)s!\n",
      "Documentation is evil!\n",
      "Python is fun!\n",
      "Python is fun!\n",
      "No such things as monsters.\n",
      "None\n"
     ]
    }
   ],
   "source": [
    "import configparser\n",
    "\n",
    "cfg = configparser.ConfigParser()\n",
    "cfg.read('config/example.cfg')\n",
    "\n",
    "# Set the optional *raw* argument of get() to True if you wish to disable\n",
    "# interpolation in a single get operation.\n",
    "print(cfg.get('Section1', 'foo', raw=False))  # -> \"Python is fun!\"\n",
    "print(cfg.get('Section1', 'foo', raw=True))   # -> \"%(bar)s is %(baz)s!\"\n",
    "\n",
    "# The optional *vars* argument is a dict with members that will take\n",
    "# precedence in interpolation.\n",
    "print(cfg.get('Section1', 'foo', vars={'bar': 'Documentation',\n",
    "                                       'baz': 'evil'}))\n",
    "\n",
    "# The optional *fallback* argument can be used to provide a fallback value\n",
    "print(cfg.get('Section1', 'foo'))\n",
    "      # -> \"Python is fun!\"\n",
    "\n",
    "print(cfg.get('Section1', 'foo', fallback='Monty is not.'))\n",
    "      # -> \"Python is fun!\"\n",
    "\n",
    "print(cfg.get('Section1', 'monster', fallback='No such things as monsters.'))\n",
    "      # -> \"No such things as monsters.\"\n",
    "\n",
    "# A bare print(cfg.get('Section1', 'monster')) would raise NoOptionError\n",
    "# but we can also use:\n",
    "\n",
    "print(cfg.get('Section1', 'monster', fallback=None))\n",
    "      # -> None"
   ]
  },
  {
   "cell_type": "markdown",
   "metadata": {},
   "source": [
    "Default values are available in both types of ConfigParsers. They are used in interpolation if an option used is not defined elsewhere."
   ]
  },
  {
   "cell_type": "code",
   "execution_count": 12,
   "metadata": {},
   "outputs": [
    {
     "name": "stdout",
     "output_type": "stream",
     "text": [
      "Python is fun!\n",
      "Life is hard!\n"
     ]
    }
   ],
   "source": [
    "import configparser\n",
    "\n",
    "# New instance with 'bar' and 'baz' defaulting to 'Life' and 'hard' each\n",
    "config = configparser.ConfigParser({'bar': 'Life', 'baz': 'hard'})\n",
    "config.read('config/example.cfg')\n",
    "\n",
    "print(config.get('Section1', 'foo'))     # -> \"Python is fun!\"\n",
    "config.remove_option('Section1', 'bar')\n",
    "config.remove_option('Section1', 'baz')\n",
    "print(config.get('Section1', 'foo'))     # -> \"Life is hard!\""
   ]
  }
 ],
 "metadata": {
  "kernelspec": {
   "display_name": "Python 3",
   "language": "python",
   "name": "python3"
  },
  "language_info": {
   "codemirror_mode": {
    "name": "ipython",
    "version": 3
   },
   "file_extension": ".py",
   "mimetype": "text/x-python",
   "name": "python",
   "nbconvert_exporter": "python",
   "pygments_lexer": "ipython3",
   "version": "3.9.2"
  },
  "orig_nbformat": 4
 },
 "nbformat": 4,
 "nbformat_minor": 2
}
